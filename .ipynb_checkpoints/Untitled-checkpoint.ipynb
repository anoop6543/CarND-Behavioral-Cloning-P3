{
 "cells": [
  {
   "cell_type": "markdown",
   "metadata": {},
   "source": [
    "### Behavioral Cloning Project - Project 3 - Term1\n",
    "### Write Up"
   ]
  },
  {
   "cell_type": "markdown",
   "metadata": {},
   "source": [
    "drive.py - CarND-Behavioral-Cloning-P3/drive.py\n",
    "model.h5 - CarND-Behavioral-Cloning-P3/model_correct.h5\n",
    "clone1.py - The script used to train the model - CarND-Behavioral-Cloning-P3/clone1.py\n",
    "\n"
   ]
  },
  {
   "cell_type": "code",
   "execution_count": null,
   "metadata": {
    "collapsed": true
   },
   "outputs": [],
   "source": [
    "[image1]: ./examples/center_example.jpg \"Center Image\"\n",
    "[image2]: ./examples/left_example.jpg \"Left Image\"\n",
    "[image3]: ./examples/right_example.jpg \"Right Image\"\n",
    "[image4]: ./examples/ \"Recovery Image\"\n",
    "[image5]: ./examples/ \"Recovery Image\"\n",
    "[image6]: ./examples/ \"Normal Image\""
   ]
  },
  {
   "cell_type": "markdown",
   "metadata": {},
   "source": [
    "## Architecture - Network Layer"
   ]
  },
  {
   "cell_type": "markdown",
   "metadata": {},
   "source": [
    "### Inspired from Architecture provided by Nvidia \n",
    "\n",
    "1) Normalization of Data -\n",
    "                            Input shape of Image - 160,320,3\n",
    "\n",
    "2) Cropped the images  -\n",
    "      \n",
    "3) Multiple Convolution Layers followed by Maxpooling\n",
    "                       -   model.add(Convolution2D(24,5,5,subsample=(2,2),activation='relu'))\n",
    "                           model.add(MaxPooling2D(pool_size=(2,2), strides=(1,1)))\n",
    "                           model.add(Convolution2D(36,5,5,subsample=(2,2),activation='relu'))\n",
    "                           model.add(MaxPooling2D(pool_size=(2,2), strides=(1,1)))\n",
    "                           model.add(Convolution2D(48,5,5,subsample=(2,2),activation='relu'))\n",
    "                           model.add(MaxPooling2D(pool_size=(2,2), strides=(1,1)))\n",
    "                           model.add(Convolution2D(64,3,3,activation='relu'))\n",
    "                           model.add(Convolution2D(64,3,3,activation='relu'))\n",
    "\n",
    "4) Applying Flattening, Dense and Drop Layer\n",
    "                           model.add(Flatten())\n",
    "                           model.add(Dropout(0.5))\n",
    "                           model.add(Dense(100))\n",
    "                           model.add(Dropout(0.5))\n",
    "                           model.add(Dense(100))\n",
    "                           model.add(Dense(50))\n",
    "                           model.add(Dropout(0.5))\n",
    "                           model.add(Dense(100))\n",
    "                           model.add(Dropout(0.5))\n",
    "                           model.add(Dense(10))\n",
    "                           model.add(Dropout(0.5))\n",
    "                           model.add(Dense(1))\n",
    "\n",
    "5) Using Adam Optimizer with a learning rate of (1e-4), Loss function - MSE\n",
    "\n",
    "6) splitting 25 % data as vaidation data from training data"
   ]
  },
  {
   "cell_type": "markdown",
   "metadata": {},
   "source": [
    "### Data Collection Strategies -\n",
    "\n",
    "1) 2 laps of lane driving trying to be in center of the lane\n",
    "    ![alt text][image1]\n",
    "    ![alt text][image2]\n",
    "    ![alt text][image3]\n",
    "\n",
    "2) 1 lap of driving the track in opposite direction trying to be in center\n",
    "\n",
    "3) In multiple scenarios - i tried to go out to edges and record the recovery back to track\n",
    "\n",
    "4) Re drove the steep curves multiple times to drive better."
   ]
  },
  {
   "cell_type": "markdown",
   "metadata": {},
   "source": []
  },
  {
   "cell_type": "markdown",
   "metadata": {},
   "source": []
  }
 ],
 "metadata": {
  "kernelspec": {
   "display_name": "Python [conda root]",
   "language": "python",
   "name": "conda-root-py"
  },
  "language_info": {
   "codemirror_mode": {
    "name": "ipython",
    "version": 3
   },
   "file_extension": ".py",
   "mimetype": "text/x-python",
   "name": "python",
   "nbconvert_exporter": "python",
   "pygments_lexer": "ipython3",
   "version": "3.5.3"
  }
 },
 "nbformat": 4,
 "nbformat_minor": 1
}
